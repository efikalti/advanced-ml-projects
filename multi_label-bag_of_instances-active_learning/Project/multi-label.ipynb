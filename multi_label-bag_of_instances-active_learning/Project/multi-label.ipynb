{
 "cells": [
  {
   "cell_type": "markdown",
   "metadata": {},
   "source": [
    "# Multi-Label"
   ]
  },
  {
   "cell_type": "markdown",
   "metadata": {},
   "source": [
    "Import libraries"
   ]
  },
  {
   "cell_type": "code",
   "execution_count": 15,
   "metadata": {},
   "outputs": [],
   "source": [
    "import numpy as np\n",
    "import pandas as pd\n",
    "import re\n",
    "import logging\n",
    "\n",
    "from sklearn.multiclass import OneVsRestClassifier\n",
    "from sklearn.ensemble import RandomForestClassifier\n",
    "from sklearn.metrics import accuracy_score"
   ]
  },
  {
   "cell_type": "markdown",
   "metadata": {},
   "source": [
    "Define constants and initialize logging formatter"
   ]
  },
  {
   "cell_type": "code",
   "execution_count": 16,
   "metadata": {},
   "outputs": [],
   "source": [
    "VOCAB_SIZE = 8520\n",
    "TRAIN_SIZE = 8251\n",
    "TEST_SIZE = 3983\n",
    "labels = ['programming',\n",
    "          'style',\n",
    "          'reference',\n",
    "          'java',\n",
    "          'web',\n",
    "          'internet',\n",
    "          'culture',\n",
    "          'design',\n",
    "          'education',\n",
    "          'language',\n",
    "          'books',\n",
    "          'writing',\n",
    "          'computer',\n",
    "          'english',\n",
    "          'politics',\n",
    "          'history',\n",
    "          'philosophy',\n",
    "          'science',\n",
    "          'religion',\n",
    "          'grammar']\n",
    "\n",
    "TRAIN_FILE = 'data/train-data.dat'\n",
    "TEST_FILE = 'data/test-data.dat'\n",
    "LABEL_TRAIN_FILE = 'data/train-label.dat'\n",
    "LABEL_TEST_FILE = 'data/test-label.dat'\n",
    "\n",
    "# create formatter\n",
    "logging.basicConfig(\n",
    "    level=logging.DEBUG,\n",
    "    format='%(asctime)s.%(msecs)03d %(levelname)s - %(funcName)s: %(message)s',\n",
    "    datefmt='%Y-%m-%d %H:%M:%S',\n",
    ")"
   ]
  },
  {
   "cell_type": "markdown",
   "metadata": {},
   "source": [
    "Function to read and preprocess input data"
   ]
  },
  {
   "cell_type": "code",
   "execution_count": 17,
   "metadata": {},
   "outputs": [],
   "source": [
    "# Read values for data from the provided filename using the file size to initialize the data matrix\n",
    "def ReadValues(filename, file_size):\n",
    "    # Create new matrix filled with zero where rows are the number of documents\n",
    "    # and columns are the number of words in the dictionary\n",
    "    data = np.zeros((file_size, VOCAB_SIZE))\n",
    "    # Initialize index\n",
    "    index = 0\n",
    "    with open(filename) as file:\n",
    "        for line in file:\n",
    "            # Split line into parts by whitespace\n",
    "            parts = line.split()\n",
    "            for part in parts:\n",
    "                if part[0] != '<':\n",
    "                    # Set 1 for this word in this document\n",
    "                    data[index][int(part)] = 1\n",
    "            index += 1\n",
    "    return data"
   ]
  },
  {
   "cell_type": "markdown",
   "metadata": {},
   "source": [
    "Function to read input labels"
   ]
  },
  {
   "cell_type": "code",
   "execution_count": 18,
   "metadata": {},
   "outputs": [],
   "source": [
    "def ReadLabels(filename):\n",
    "    data = pd.read_csv(filename, header=None, delim_whitespace=True, error_bad_lines=False).values\n",
    "    return data"
   ]
  },
  {
   "cell_type": "markdown",
   "metadata": {},
   "source": [
    "Function to read training and test data"
   ]
  },
  {
   "cell_type": "code",
   "execution_count": 19,
   "metadata": {},
   "outputs": [],
   "source": [
    "def ReadData():\n",
    "    # Read train data\n",
    "    train_x = ReadValues(filename=TRAIN_FILE, file_size=TRAIN_SIZE)\n",
    "    train_y = ReadLabels(filename=LABEL_TRAIN_FILE)\n",
    "\n",
    "    # Read test data\n",
    "    test_x = ReadValues(filename=TEST_FILE, file_size=TEST_SIZE)\n",
    "    test_y = ReadLabels(filename=LABEL_TEST_FILE)\n",
    "\n",
    "    # Return data\n",
    "    return train_x, train_y, test_x, test_y"
   ]
  },
  {
   "cell_type": "markdown",
   "metadata": {},
   "source": [
    "Function to run OneVsRestClassifier to create a model for every class vs all the other classes and then train a RandomForestClassifier for each one."
   ]
  },
  {
   "cell_type": "code",
   "execution_count": 20,
   "metadata": {},
   "outputs": [],
   "source": [
    "def PartA():\n",
    "    logging.info(\"Reading data\")\n",
    "    x, y, test_x, test_y = ReadData()\n",
    "\n",
    "    logging.info(\"Training model\")\n",
    "    clf = OneVsRestClassifier(RandomForestClassifier(n_estimators=10))\n",
    "    clf.fit(x, y)\n",
    "    logging.info(\"Predicting on test data\")\n",
    "    y_predicted = clf.predict(test_x)\n",
    "\n",
    "    logging.info(\"Results:\")\n",
    "    acc = accuracy_score(test_y, y_predicted)\n",
    "    logging.info('Accuracy {0}:'.format(str(acc)))\n",
    "    logging.info('For each label:')\n",
    "    index = 0\n",
    "    for label in labels:\n",
    "        acc = accuracy_score(test_y[:, index], y_predicted[:, index])\n",
    "        logging.info('Accuracy {0}: {1}'.format(label, str(acc)))\n",
    "        index += 1"
   ]
  },
  {
   "cell_type": "markdown",
   "metadata": {},
   "source": [
    "Run PartA function"
   ]
  },
  {
   "cell_type": "code",
   "execution_count": 21,
   "metadata": {},
   "outputs": [
    {
     "name": "stderr",
     "output_type": "stream",
     "text": [
      "2019-05-17 22:01:30.910 INFO - PartA: Reading data\n",
      "2019-05-17 22:01:31.968 INFO - PartA: Training model\n",
      "2019-05-17 22:03:03.562 INFO - PartA: Predicting on test data\n",
      "2019-05-17 22:03:06.760 INFO - PartA: Results:\n",
      "2019-05-17 22:03:06.766 INFO - PartA: Accuracy 0.05699221692191815:\n",
      "2019-05-17 22:03:06.767 INFO - PartA: For each label:\n",
      "2019-05-17 22:03:06.768 INFO - PartA: Accuracy programming: 0.8312829525483304\n",
      "2019-05-17 22:03:06.770 INFO - PartA: Accuracy style: 0.9470248556364549\n",
      "2019-05-17 22:03:06.771 INFO - PartA: Accuracy reference: 0.6226462465478283\n",
      "2019-05-17 22:03:06.772 INFO - PartA: Accuracy java: 0.9133818729600803\n",
      "2019-05-17 22:03:06.774 INFO - PartA: Accuracy web: 0.7574692442882249\n",
      "2019-05-17 22:03:06.776 INFO - PartA: Accuracy internet: 0.8659302033642983\n",
      "2019-05-17 22:03:06.777 INFO - PartA: Accuracy culture: 0.8182274667336179\n",
      "2019-05-17 22:03:06.779 INFO - PartA: Accuracy design: 0.7446648255084107\n",
      "2019-05-17 22:03:06.781 INFO - PartA: Accuracy education: 0.8111975897564649\n",
      "2019-05-17 22:03:06.783 INFO - PartA: Accuracy language: 0.8930454431333166\n",
      "2019-05-17 22:03:06.784 INFO - PartA: Accuracy books: 0.8769771528998243\n",
      "2019-05-17 22:03:06.785 INFO - PartA: Accuracy writing: 0.8867687672608586\n",
      "2019-05-17 22:03:06.787 INFO - PartA: Accuracy computer: 0.8722068792367562\n",
      "2019-05-17 22:03:06.788 INFO - PartA: Accuracy english: 0.9148882751694702\n",
      "2019-05-17 22:03:06.789 INFO - PartA: Accuracy politics: 0.9088626663319106\n",
      "2019-05-17 22:03:06.790 INFO - PartA: Accuracy history: 0.8877730354004519\n",
      "2019-05-17 22:03:06.791 INFO - PartA: Accuracy philosophy: 0.9319608335425559\n",
      "2019-05-17 22:03:06.792 INFO - PartA: Accuracy science: 0.8835048958071805\n",
      "2019-05-17 22:03:06.793 INFO - PartA: Accuracy religion: 0.9555611348229978\n",
      "2019-05-17 22:03:06.794 INFO - PartA: Accuracy grammar: 0.967612352498117\n"
     ]
    }
   ],
   "source": [
    "PartA()"
   ]
  }
 ],
 "metadata": {
  "celltoolbar": "Raw Cell Format",
  "kernelspec": {
   "display_name": "Python 3",
   "language": "python",
   "name": "python3"
  },
  "language_info": {
   "codemirror_mode": {
    "name": "ipython",
    "version": 3
   },
   "file_extension": ".py",
   "mimetype": "text/x-python",
   "name": "python",
   "nbconvert_exporter": "python",
   "pygments_lexer": "ipython3",
   "version": "3.6.8"
  }
 },
 "nbformat": 4,
 "nbformat_minor": 2
}
