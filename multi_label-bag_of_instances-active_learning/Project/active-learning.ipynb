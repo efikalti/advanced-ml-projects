{
 "cells": [
  {
   "cell_type": "markdown",
   "metadata": {},
   "source": [
    "# Active Learning"
   ]
  },
  {
   "cell_type": "markdown",
   "metadata": {},
   "source": [
    "Import libraries"
   ]
  },
  {
   "cell_type": "code",
   "execution_count": 30,
   "metadata": {},
   "outputs": [],
   "source": [
    "import numpy as np\n",
    "import pandas as pd\n",
    "import re\n",
    "import logging\n",
    "\n",
    "from sklearn.naive_bayes import MultinomialNB\n",
    "from sklearn.metrics import accuracy_score\n",
    "from sklearn.model_selection import train_test_split"
   ]
  },
  {
   "cell_type": "markdown",
   "metadata": {},
   "source": [
    "Define constants and initialize logging formatter"
   ]
  },
  {
   "cell_type": "code",
   "execution_count": 31,
   "metadata": {},
   "outputs": [],
   "source": [
    "VOCAB_SIZE = 8520\n",
    "MOST_FREQ = 2\n",
    "\n",
    "TRAIN_FILE = 'data/train-data.dat'\n",
    "TEST_FILE = 'data/test-data.dat'\n",
    "LABEL_TRAIN_FILE = 'data/train-label.dat'\n",
    "LABEL_TEST_FILE = 'data/test-label.dat'\n",
    "\n",
    "PROB_THRESHOLD = 0.6\n",
    "SAMPLE_NUMBER = 50\n",
    "\n",
    "# create formatter\n",
    "logging.basicConfig(\n",
    "    level=logging.DEBUG,\n",
    "    format='%(asctime)s.%(msecs)03d %(levelname)s - %(funcName)s: %(message)s',\n",
    "    datefmt='%Y-%m-%d %H:%M:%S',\n",
    ")"
   ]
  },
  {
   "cell_type": "markdown",
   "metadata": {},
   "source": [
    "Function to read and preprocess input data"
   ]
  },
  {
   "cell_type": "code",
   "execution_count": 32,
   "metadata": {},
   "outputs": [],
   "source": [
    "def ReadValues(x_filename, y_filename):\n",
    "\n",
    "    # Read labels array\n",
    "    y_data = pd.read_csv(y_filename, header=None, delim_whitespace=True,\n",
    "                         error_bad_lines=False).values\n",
    "\n",
    "    # Create new matrix filled with zero where rows are the number of documents\n",
    "    # and columns are the number of words in the dictionary\n",
    "    x_data = np.zeros((y_data.shape[0], VOCAB_SIZE))\n",
    "    y_data_transformed = np.zeros((y_data.shape[0]))\n",
    "\n",
    "    # Initialize index\n",
    "    index = 0\n",
    "    with open(x_filename) as file:\n",
    "        for line in file:\n",
    "            # Number of sentences in this document\n",
    "            if y_data[index][MOST_FREQ] == 1:\n",
    "                y_data_transformed[index] = 1\n",
    "\n",
    "            # Split line into parts by whitespace\n",
    "            parts = line.split()\n",
    "            for part in parts:\n",
    "                if part[0] != '<':\n",
    "                    # Set 1 for this word in this document\n",
    "                    x_data[index][int(part)] = 1\n",
    "            index += 1\n",
    "    return x_data, y_data_transformed"
   ]
  },
  {
   "cell_type": "markdown",
   "metadata": {},
   "source": [
    "Function that returns max of two numbers"
   ]
  },
  {
   "cell_type": "code",
   "execution_count": 33,
   "metadata": {},
   "outputs": [],
   "source": [
    "def max(a, b):\n",
    "    if a >= b:\n",
    "        return a\n",
    "    return b"
   ]
  },
  {
   "cell_type": "markdown",
   "metadata": {},
   "source": [
    "Function to run uncertainty sampling"
   ]
  },
  {
   "cell_type": "code",
   "execution_count": 34,
   "metadata": {},
   "outputs": [],
   "source": [
    "def PartC():\n",
    "    # Results dataframe\n",
    "    results = pd.DataFrame(\n",
    "        columns=['Accuracy Before Sampling', 'Accuracy After Sampling'])\n",
    "\n",
    "    logging.info(\"Reading data\")\n",
    "    # Read train data\n",
    "    train_x, train_y = ReadValues(x_filename=TRAIN_FILE, y_filename=LABEL_TRAIN_FILE)\n",
    "\n",
    "    # Split training set to labeled and unlabeled, un_y will not be used\n",
    "    labeled_x, unlabeled_x, labeled_y, unlabeled_y = train_test_split(\n",
    "        train_x, train_y, test_size=0.5, random_state=0)\n",
    "\n",
    "    # Read test data\n",
    "    test_x, test_y = ReadValues(x_filename=TEST_FILE, y_filename=LABEL_TEST_FILE)\n",
    "\n",
    "    x = np.copy(labeled_x)\n",
    "    y = np.copy(labeled_y)\n",
    "    for i in range(0, 10):\n",
    "        # Copy original dataset to new arrays\n",
    "        logging.info(\"Train Naive Bayes model on labeled data\")\n",
    "        model = MultinomialNB()\n",
    "        model.fit(x, y)\n",
    "        logging.info(\"Predict on test data\")\n",
    "        y_predicted_before = model.predict(test_x)\n",
    "\n",
    "        logging.info(\"Sample from unlabeled data using the probabilities predicted by the trained model\")\n",
    "        probabilities = model.predict_proba(unlabeled_x)\n",
    "\n",
    "        samples_added = 0\n",
    "        threshold = PROB_THRESHOLD\n",
    "        samples_x = []\n",
    "        samples_y = []\n",
    "        while samples_added < SAMPLE_NUMBER:\n",
    "            deletions = []\n",
    "            for j in range(0, len(probabilities)):\n",
    "                # Get the bigger of the probabilities\n",
    "                max_prob = max(probabilities[j][0], probabilities[j][1])\n",
    "                # If the max probability is smaller or equal to the threshold\n",
    "                # Add that unlabeled data to the labeled dataset\n",
    "                if max_prob <= threshold and samples_added < SAMPLE_NUMBER:\n",
    "                    samples_x.append(unlabeled_x[j])\n",
    "                    samples_y.append(unlabeled_y[j])\n",
    "                    deletions.append(j)\n",
    "                    samples_added += 1\n",
    "            if samples_added < SAMPLE_NUMBER:\n",
    "                # Increase threshold by 10%\n",
    "                threshold += 0.1\n",
    "            # Delete probabilities added\n",
    "            probabilities = np.delete(probabilities, deletions, axis=0)\n",
    "            if len(probabilities) < SAMPLE_NUMBER - samples_added:\n",
    "                samples_added = (SAMPLE_NUMBER - samples_added) - len(probabilities)\n",
    "                threshold = 1\n",
    "\n",
    "        # Add new labeled data\n",
    "        x = np.concatenate((x, samples_x), axis=0)\n",
    "        y = np.concatenate((y, samples_y), axis=0)\n",
    "        # Remove from unlabeled dataset\n",
    "        unlabeled_x = np.delete(unlabeled_x, deletions, axis=0)\n",
    "        unlabeled_y = np.delete(unlabeled_y, deletions, axis=0)\n",
    "\n",
    "        logging.info(\"Train Naive Bayes model on the new labeled data\")\n",
    "        model = MultinomialNB()\n",
    "        model.fit(x, y)\n",
    "        logging.info(\"Predict again on test data\")\n",
    "        y_predicted_after = model.predict(test_x)\n",
    "\n",
    "        acc_b = accuracy_score(test_y, y_predicted_before)\n",
    "        logging.info(\n",
    "            'Accuracy on test data before adding from the unlabeled data {0}:'.format(str(acc_b)))\n",
    "        acc_a = accuracy_score(test_y, y_predicted_after)\n",
    "        logging.info(\n",
    "            'Accuracy on test data after adding from the unlabeled data {0}:'.format(str(acc_a)))\n",
    "\n",
    "        results = results.append({'Accuracy Before Sampling': float(\"%0.5f\" % acc_b),\n",
    "                                  'Accuracy After Sampling': float(\"%0.5f\" % acc_a)}, ignore_index=True)\n",
    "\n",
    "    logging.info('Final results:')\n",
    "    logging.info('\\n' + str(results))\n"
   ]
  },
  {
   "cell_type": "markdown",
   "metadata": {},
   "source": [
    "Run PartA function"
   ]
  },
  {
   "cell_type": "code",
   "execution_count": 35,
   "metadata": {},
   "outputs": [
    {
     "name": "stderr",
     "output_type": "stream",
     "text": [
      "2019-05-20 12:28:34.638 INFO - PartC: Reading data\n",
      "2019-05-20 12:28:36.160 INFO - PartC: Train Naive Bayes model on labeled data\n",
      "2019-05-20 12:28:36.306 INFO - PartC: Predict on test data\n",
      "2019-05-20 12:28:36.421 INFO - PartC: Sample from unlabeled data using the probabilities predicted by the trained model\n",
      "2019-05-20 12:28:36.904 INFO - PartC: Train Naive Bayes model on the new labeled data\n",
      "2019-05-20 12:28:37.069 INFO - PartC: Predict again on test data\n",
      "2019-05-20 12:28:37.173 INFO - PartC: Accuracy on test data before adding from the unlabeled data 0.6131056992216922:\n",
      "2019-05-20 12:28:37.174 INFO - PartC: Accuracy on test data after adding from the unlabeled data 0.6201355761988451:\n",
      "2019-05-20 12:28:37.176 INFO - PartC: Train Naive Bayes model on labeled data\n",
      "2019-05-20 12:28:37.341 INFO - PartC: Predict on test data\n",
      "2019-05-20 12:28:37.446 INFO - PartC: Sample from unlabeled data using the probabilities predicted by the trained model\n",
      "2019-05-20 12:28:37.947 INFO - PartC: Train Naive Bayes model on the new labeled data\n",
      "2019-05-20 12:28:38.130 INFO - PartC: Predict again on test data\n",
      "2019-05-20 12:28:38.236 INFO - PartC: Accuracy on test data before adding from the unlabeled data 0.6201355761988451:\n",
      "2019-05-20 12:28:38.238 INFO - PartC: Accuracy on test data after adding from the unlabeled data 0.6266633191062013:\n",
      "2019-05-20 12:28:38.240 INFO - PartC: Train Naive Bayes model on labeled data\n",
      "2019-05-20 12:28:38.420 INFO - PartC: Predict on test data\n",
      "2019-05-20 12:28:38.526 INFO - PartC: Sample from unlabeled data using the probabilities predicted by the trained model\n",
      "2019-05-20 12:28:39.047 INFO - PartC: Train Naive Bayes model on the new labeled data\n",
      "2019-05-20 12:28:39.249 INFO - PartC: Predict again on test data\n",
      "2019-05-20 12:28:39.363 INFO - PartC: Accuracy on test data before adding from the unlabeled data 0.6266633191062013:\n",
      "2019-05-20 12:28:39.364 INFO - PartC: Accuracy on test data after adding from the unlabeled data 0.6241526487572182:\n",
      "2019-05-20 12:28:39.366 INFO - PartC: Train Naive Bayes model on labeled data\n",
      "2019-05-20 12:28:39.562 INFO - PartC: Predict on test data\n",
      "2019-05-20 12:28:39.666 INFO - PartC: Sample from unlabeled data using the probabilities predicted by the trained model\n",
      "2019-05-20 12:28:40.214 INFO - PartC: Train Naive Bayes model on the new labeled data\n",
      "2019-05-20 12:28:40.431 INFO - PartC: Predict again on test data\n",
      "2019-05-20 12:28:40.537 INFO - PartC: Accuracy on test data before adding from the unlabeled data 0.6241526487572182:\n",
      "2019-05-20 12:28:40.538 INFO - PartC: Accuracy on test data after adding from the unlabeled data 0.632688927943761:\n",
      "2019-05-20 12:28:40.540 INFO - PartC: Train Naive Bayes model on labeled data\n",
      "2019-05-20 12:28:40.761 INFO - PartC: Predict on test data\n",
      "2019-05-20 12:28:40.865 INFO - PartC: Sample from unlabeled data using the probabilities predicted by the trained model\n",
      "2019-05-20 12:28:41.441 INFO - PartC: Train Naive Bayes model on the new labeled data\n",
      "2019-05-20 12:28:41.676 INFO - PartC: Predict again on test data\n",
      "2019-05-20 12:28:41.781 INFO - PartC: Accuracy on test data before adding from the unlabeled data 0.632688927943761:\n",
      "2019-05-20 12:28:41.783 INFO - PartC: Accuracy on test data after adding from the unlabeled data 0.6341953301531509:\n",
      "2019-05-20 12:28:41.785 INFO - PartC: Train Naive Bayes model on labeled data\n",
      "2019-05-20 12:28:42.017 INFO - PartC: Predict on test data\n",
      "2019-05-20 12:28:42.121 INFO - PartC: Sample from unlabeled data using the probabilities predicted by the trained model\n",
      "2019-05-20 12:28:42.706 INFO - PartC: Train Naive Bayes model on the new labeled data\n",
      "2019-05-20 12:28:42.956 INFO - PartC: Predict again on test data\n",
      "2019-05-20 12:28:43.061 INFO - PartC: Accuracy on test data before adding from the unlabeled data 0.6341953301531509:\n",
      "2019-05-20 12:28:43.062 INFO - PartC: Accuracy on test data after adding from the unlabeled data 0.633442129048456:\n",
      "2019-05-20 12:28:43.064 INFO - PartC: Train Naive Bayes model on labeled data\n",
      "2019-05-20 12:28:43.313 INFO - PartC: Predict on test data\n",
      "2019-05-20 12:28:43.420 INFO - PartC: Sample from unlabeled data using the probabilities predicted by the trained model\n",
      "2019-05-20 12:28:44.035 INFO - PartC: Train Naive Bayes model on the new labeled data\n",
      "2019-05-20 12:28:44.304 INFO - PartC: Predict again on test data\n",
      "2019-05-20 12:28:44.409 INFO - PartC: Accuracy on test data before adding from the unlabeled data 0.633442129048456:\n",
      "2019-05-20 12:28:44.410 INFO - PartC: Accuracy on test data after adding from the unlabeled data 0.633442129048456:\n",
      "2019-05-20 12:28:44.412 INFO - PartC: Train Naive Bayes model on labeled data\n",
      "2019-05-20 12:28:44.692 INFO - PartC: Predict on test data\n",
      "2019-05-20 12:28:44.798 INFO - PartC: Sample from unlabeled data using the probabilities predicted by the trained model\n",
      "2019-05-20 12:28:45.414 INFO - PartC: Train Naive Bayes model on the new labeled data\n",
      "2019-05-20 12:28:45.711 INFO - PartC: Predict again on test data\n",
      "2019-05-20 12:28:45.824 INFO - PartC: Accuracy on test data before adding from the unlabeled data 0.633442129048456:\n",
      "2019-05-20 12:28:45.825 INFO - PartC: Accuracy on test data after adding from the unlabeled data 0.6354506653276425:\n",
      "2019-05-20 12:28:45.827 INFO - PartC: Train Naive Bayes model on labeled data\n",
      "2019-05-20 12:28:46.119 INFO - PartC: Predict on test data\n",
      "2019-05-20 12:28:46.224 INFO - PartC: Sample from unlabeled data using the probabilities predicted by the trained model\n",
      "2019-05-20 12:28:46.829 INFO - PartC: Train Naive Bayes model on the new labeled data\n",
      "2019-05-20 12:28:47.133 INFO - PartC: Predict again on test data\n",
      "2019-05-20 12:28:47.240 INFO - PartC: Accuracy on test data before adding from the unlabeled data 0.6354506653276425:\n",
      "2019-05-20 12:28:47.242 INFO - PartC: Accuracy on test data after adding from the unlabeled data 0.6341953301531509:\n",
      "2019-05-20 12:28:47.245 INFO - PartC: Train Naive Bayes model on labeled data\n",
      "2019-05-20 12:28:47.549 INFO - PartC: Predict on test data\n",
      "2019-05-20 12:28:47.655 INFO - PartC: Sample from unlabeled data using the probabilities predicted by the trained model\n",
      "2019-05-20 12:28:48.294 INFO - PartC: Train Naive Bayes model on the new labeled data\n",
      "2019-05-20 12:28:48.618 INFO - PartC: Predict again on test data\n",
      "2019-05-20 12:28:48.725 INFO - PartC: Accuracy on test data before adding from the unlabeled data 0.6341953301531509:\n",
      "2019-05-20 12:28:48.727 INFO - PartC: Accuracy on test data after adding from the unlabeled data 0.6349485312578459:\n",
      "2019-05-20 12:28:48.729 INFO - PartC: Final results:\n",
      "2019-05-20 12:28:48.731 INFO - PartC: \n",
      "   Accuracy Before Sampling  Accuracy After Sampling\n",
      "0                   0.61311                  0.62014\n",
      "1                   0.62014                  0.62666\n",
      "2                   0.62666                  0.62415\n",
      "3                   0.62415                  0.63269\n",
      "4                   0.63269                  0.63420\n",
      "5                   0.63420                  0.63344\n",
      "6                   0.63344                  0.63344\n",
      "7                   0.63344                  0.63545\n",
      "8                   0.63545                  0.63420\n",
      "9                   0.63420                  0.63495\n"
     ]
    }
   ],
   "source": [
    "PartC()"
   ]
  }
 ],
 "metadata": {
  "celltoolbar": "Raw Cell Format",
  "kernelspec": {
   "display_name": "Python 3",
   "language": "python",
   "name": "python3"
  },
  "language_info": {
   "codemirror_mode": {
    "name": "ipython",
    "version": 3
   },
   "file_extension": ".py",
   "mimetype": "text/x-python",
   "name": "python",
   "nbconvert_exporter": "python",
   "pygments_lexer": "ipython3",
   "version": "3.6.8"
  }
 },
 "nbformat": 4,
 "nbformat_minor": 2
}
